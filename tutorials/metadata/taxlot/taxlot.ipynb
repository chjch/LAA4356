{
 "cells": [
  {
   "cell_type": "markdown",
   "metadata": {},
   "source": [
    "# Florida parcel data (2019)\n",
    "\n",
    "- 1. Geometry\n",
    "- 2. Attributes: [FGDL Metadata](https://www.fgdl.org/metadataexplorer/full_metadata.jsp?docId=%7B147B34F0-9E64-49AE-8B7F-5C4999BEC541%7D&loggedIn=false)\n",
    "    - 2.1. DORUC\n",
    "    - 2.2. JV\n",
    "    - 2.3. ACRES\n",
    "    - 2.4. ACTYRBLT\n",
    "    \n",
    "**_Note_**\n",
    "- Only parcels within the study area is in this dataset."
   ]
  },
  {
   "cell_type": "markdown",
   "metadata": {},
   "source": [
    "## 1. Geometry\n",
    "<img src=\"taxlot.jpg\" alt=\"drawing\" width=\"800\" align=\"left\"/>"
   ]
  },
  {
   "cell_type": "markdown",
   "metadata": {},
   "source": [
    "## 2. Attributes"
   ]
  },
  {
   "cell_type": "code",
   "execution_count": null,
   "metadata": {},
   "outputs": [],
   "source": [
    "import pandas as pd\n",
    "import seaborn as sns\n",
    "%matplotlib inline\n",
    "sns.set_style('darkgrid')\n",
    "pd.options.display.max_columns = None"
   ]
  },
  {
   "cell_type": "code",
   "execution_count": null,
   "metadata": {
    "scrolled": false
   },
   "outputs": [],
   "source": [
    "taxlot = \"taxlot.csv\"\n",
    "taxlot_df = pd.read_csv(taxlot, converters={'DORUC': lambda x: str(x)})\n",
    "taxlot_df.head()"
   ]
  },
  {
   "cell_type": "markdown",
   "metadata": {},
   "source": [
    "### 2.1 DORUC\n",
    "\n",
    "- Definition: DOR classification code\n",
    "- Description: FDOR LAND USE CODES USE CODE"
   ]
  },
  {
   "cell_type": "markdown",
   "metadata": {},
   "source": [
    "### 2.2 JV\n",
    "\n",
    "- Definition: Total just value.\n",
    "- Description: land just value plus building value plus special feature value"
   ]
  },
  {
   "cell_type": "code",
   "execution_count": null,
   "metadata": {},
   "outputs": [],
   "source": [
    "taxlot_df['JV'].max()"
   ]
  },
  {
   "cell_type": "code",
   "execution_count": null,
   "metadata": {},
   "outputs": [],
   "source": [
    "taxlot_sf = taxlot_df.loc[taxlot_df['DORUC']=='001']  # 001 -> single family\n",
    "taxlot_sf['JV'].hist(bins=30, figsize=(10,6)).set_title(\"Just Value of single family housing\", fontsize=16)"
   ]
  },
  {
   "cell_type": "markdown",
   "metadata": {},
   "source": [
    "### 2.3 ACRES\n",
    "\n",
    "- Definition: Acreage of parcel"
   ]
  },
  {
   "cell_type": "code",
   "execution_count": null,
   "metadata": {},
   "outputs": [],
   "source": [
    "taxlot_sf['ACRES'].hist(bins=30, figsize=(10,6)).set_title(\"Acreage of single family housing\", fontsize=16)"
   ]
  },
  {
   "cell_type": "markdown",
   "metadata": {},
   "source": [
    "<img src=\"Lot_size18.jpg\" alt=\"drawing\" width=\"650\" align=\"left\"/>"
   ]
  },
  {
   "cell_type": "code",
   "execution_count": null,
   "metadata": {},
   "outputs": [],
   "source": [
    "taxlot_sf[taxlot_sf['ACRES']<0.4]['ACRES'].hist(bins=10, figsize=(10,6)).set_title(\"Histogram of single family housing < 0.4 acre\", fontsize=16)"
   ]
  },
  {
   "cell_type": "code",
   "execution_count": null,
   "metadata": {},
   "outputs": [],
   "source": [
    "ax = taxlot_sf.loc[taxlot_sf['ACRES']<0.4].plot.scatter(x='ACRES', y='JV', figsize=(10,6))\n",
    "ax.set_xlabel(\"ACRES\", fontsize=14)\n",
    "ax.set_ylabel(\"JV\", fontsize=14)"
   ]
  },
  {
   "cell_type": "markdown",
   "metadata": {},
   "source": [
    "### 2.4 ACTYRBLT\n",
    "\n",
    "- Definition: Actual year built."
   ]
  },
  {
   "cell_type": "code",
   "execution_count": null,
   "metadata": {},
   "outputs": [],
   "source": [
    "taxlot_sf['ACTYRBLT'].hist(bins=30, figsize=(10,6)).set_title('Single family housing actual year built', fontsize=16)"
   ]
  },
  {
   "cell_type": "markdown",
   "metadata": {},
   "source": [
    "## 3. Microsoft Building Footprint\n",
    "\n",
    "- Provides contextual information and more details comparing with a single parcel layer only\n",
    "- Adding building footprint for presentational purpose"
   ]
  },
  {
   "cell_type": "markdown",
   "metadata": {},
   "source": [
    "![msbfp](parcel_msbfp.gif)"
   ]
  }
 ],
 "metadata": {
  "kernelspec": {
   "display_name": "Python 3",
   "language": "python",
   "name": "python3"
  },
  "language_info": {
   "codemirror_mode": {
    "name": "ipython",
    "version": 3
   },
   "file_extension": ".py",
   "mimetype": "text/x-python",
   "name": "python",
   "nbconvert_exporter": "python",
   "pygments_lexer": "ipython3",
   "version": "3.7.9"
  }
 },
 "nbformat": 4,
 "nbformat_minor": 2
}
